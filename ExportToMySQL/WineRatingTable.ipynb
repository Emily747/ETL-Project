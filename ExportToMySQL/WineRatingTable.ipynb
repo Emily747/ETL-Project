{
 "cells": [
  {
   "cell_type": "code",
   "execution_count": 1,
   "metadata": {},
   "outputs": [],
   "source": [
    "import pandas as pd\n",
    "\n",
    "\n",
    "ImportTable1 = \"Outputs/wine_join_state.csv\"\n",
    "wine_join_state = pd.read_csv(ImportTable1, encoding=\"UTF-8\")\n",
    "\n",
    "ImportTable = \"Outputs/state_wine_ctry_f.csv\"\n",
    "state = pd.read_csv(ImportTable, encoding=\"UTF-8\")\n"
   ]
  },
  {
   "cell_type": "code",
   "execution_count": null,
   "metadata": {},
   "outputs": [],
   "source": []
  },
  {
   "cell_type": "code",
   "execution_count": 2,
   "metadata": {},
   "outputs": [
    {
     "data": {
      "text/html": [
       "<div>\n",
       "<style scoped>\n",
       "    .dataframe tbody tr th:only-of-type {\n",
       "        vertical-align: middle;\n",
       "    }\n",
       "\n",
       "    .dataframe tbody tr th {\n",
       "        vertical-align: top;\n",
       "    }\n",
       "\n",
       "    .dataframe thead th {\n",
       "        text-align: right;\n",
       "    }\n",
       "</style>\n",
       "<table border=\"1\" class=\"dataframe\">\n",
       "  <thead>\n",
       "    <tr style=\"text-align: right;\">\n",
       "      <th></th>\n",
       "      <th>stateId</th>\n",
       "      <th>country</th>\n",
       "      <th>state</th>\n",
       "      <th>GDP</th>\n",
       "      <th>countryId</th>\n",
       "    </tr>\n",
       "  </thead>\n",
       "  <tbody>\n",
       "    <tr>\n",
       "      <th>0</th>\n",
       "      <td>0</td>\n",
       "      <td>Portugal</td>\n",
       "      <td>Douro</td>\n",
       "      <td>0</td>\n",
       "      <td>31</td>\n",
       "    </tr>\n",
       "    <tr>\n",
       "      <th>1</th>\n",
       "      <td>1</td>\n",
       "      <td>US</td>\n",
       "      <td>Oregon</td>\n",
       "      <td>238,687</td>\n",
       "      <td>39</td>\n",
       "    </tr>\n",
       "    <tr>\n",
       "      <th>3</th>\n",
       "      <td>3</td>\n",
       "      <td>Spain</td>\n",
       "      <td>Northern Spain</td>\n",
       "      <td>0</td>\n",
       "      <td>36</td>\n",
       "    </tr>\n",
       "    <tr>\n",
       "      <th>4</th>\n",
       "      <td>4</td>\n",
       "      <td>Italy</td>\n",
       "      <td>Sicily &amp; Sardinia</td>\n",
       "      <td>0</td>\n",
       "      <td>22</td>\n",
       "    </tr>\n",
       "    <tr>\n",
       "      <th>5</th>\n",
       "      <td>5</td>\n",
       "      <td>France</td>\n",
       "      <td>Alsace</td>\n",
       "      <td>0</td>\n",
       "      <td>15</td>\n",
       "    </tr>\n",
       "  </tbody>\n",
       "</table>\n",
       "</div>"
      ],
      "text/plain": [
       "   stateId   country              state      GDP  countryId\n",
       "0        0  Portugal              Douro        0         31\n",
       "1        1        US             Oregon  238,687         39\n",
       "3        3     Spain     Northern Spain        0         36\n",
       "4        4     Italy  Sicily & Sardinia        0         22\n",
       "5        5    France             Alsace        0         15"
      ]
     },
     "execution_count": 2,
     "metadata": {},
     "output_type": "execute_result"
    }
   ],
   "source": [
    "#wine_join_state.head()\n",
    "wine_join_state = wine_join_state.rename( columns={\"province\": \"state\"})\n",
    "#state = state.set_index(inplace=True)\n",
    "state.drop_duplicates(\"state\", inplace=True)\n",
    "state.head()"
   ]
  },
  {
   "cell_type": "code",
   "execution_count": 3,
   "metadata": {
    "scrolled": false
   },
   "outputs": [
    {
     "data": {
      "text/html": [
       "<div>\n",
       "<style scoped>\n",
       "    .dataframe tbody tr th:only-of-type {\n",
       "        vertical-align: middle;\n",
       "    }\n",
       "\n",
       "    .dataframe tbody tr th {\n",
       "        vertical-align: top;\n",
       "    }\n",
       "\n",
       "    .dataframe thead th {\n",
       "        text-align: right;\n",
       "    }\n",
       "</style>\n",
       "<table border=\"1\" class=\"dataframe\">\n",
       "  <thead>\n",
       "    <tr style=\"text-align: right;\">\n",
       "      <th></th>\n",
       "      <th>variety</th>\n",
       "      <th>title</th>\n",
       "      <th>tasterID</th>\n",
       "      <th>state</th>\n",
       "      <th>points</th>\n",
       "      <th>price</th>\n",
       "      <th>country_x</th>\n",
       "      <th>stateId</th>\n",
       "      <th>country_y</th>\n",
       "      <th>GDP</th>\n",
       "      <th>countryId</th>\n",
       "    </tr>\n",
       "  </thead>\n",
       "  <tbody>\n",
       "    <tr>\n",
       "      <th>0</th>\n",
       "      <td>Portuguese Red</td>\n",
       "      <td>Quinta dos Avidagos 2011 Avidagos Red (Douro)</td>\n",
       "      <td>13</td>\n",
       "      <td>Douro</td>\n",
       "      <td>87</td>\n",
       "      <td>15.0</td>\n",
       "      <td>Portugal</td>\n",
       "      <td>0</td>\n",
       "      <td>Portugal</td>\n",
       "      <td>0</td>\n",
       "      <td>31</td>\n",
       "    </tr>\n",
       "    <tr>\n",
       "      <th>1</th>\n",
       "      <td>Gewürztraminer</td>\n",
       "      <td>Trimbach 2012 Gewurztraminer (Alsace)</td>\n",
       "      <td>13</td>\n",
       "      <td>Alsace</td>\n",
       "      <td>87</td>\n",
       "      <td>24.0</td>\n",
       "      <td>France</td>\n",
       "      <td>5</td>\n",
       "      <td>France</td>\n",
       "      <td>0</td>\n",
       "      <td>15</td>\n",
       "    </tr>\n",
       "    <tr>\n",
       "      <th>2</th>\n",
       "      <td>Pinot Gris</td>\n",
       "      <td>Jean-Baptiste Adam 2012 Les Natures Pinot Gris...</td>\n",
       "      <td>13</td>\n",
       "      <td>Alsace</td>\n",
       "      <td>87</td>\n",
       "      <td>27.0</td>\n",
       "      <td>France</td>\n",
       "      <td>5</td>\n",
       "      <td>France</td>\n",
       "      <td>0</td>\n",
       "      <td>15</td>\n",
       "    </tr>\n",
       "    <tr>\n",
       "      <th>3</th>\n",
       "      <td>Gewürztraminer</td>\n",
       "      <td>Leon Beyer 2012 Gewurztraminer (Alsace)</td>\n",
       "      <td>13</td>\n",
       "      <td>Alsace</td>\n",
       "      <td>87</td>\n",
       "      <td>30.0</td>\n",
       "      <td>France</td>\n",
       "      <td>5</td>\n",
       "      <td>France</td>\n",
       "      <td>0</td>\n",
       "      <td>15</td>\n",
       "    </tr>\n",
       "    <tr>\n",
       "      <th>4</th>\n",
       "      <td>Gamay</td>\n",
       "      <td>Henry Fessy 2012 Nouveau  (Beaujolais)</td>\n",
       "      <td>13</td>\n",
       "      <td>Beaujolais</td>\n",
       "      <td>86</td>\n",
       "      <td>9.0</td>\n",
       "      <td>France</td>\n",
       "      <td>26</td>\n",
       "      <td>France</td>\n",
       "      <td>0</td>\n",
       "      <td>15</td>\n",
       "    </tr>\n",
       "  </tbody>\n",
       "</table>\n",
       "</div>"
      ],
      "text/plain": [
       "          variety                                              title  \\\n",
       "0  Portuguese Red      Quinta dos Avidagos 2011 Avidagos Red (Douro)   \n",
       "1  Gewürztraminer              Trimbach 2012 Gewurztraminer (Alsace)   \n",
       "2      Pinot Gris  Jean-Baptiste Adam 2012 Les Natures Pinot Gris...   \n",
       "3  Gewürztraminer            Leon Beyer 2012 Gewurztraminer (Alsace)   \n",
       "4           Gamay             Henry Fessy 2012 Nouveau  (Beaujolais)   \n",
       "\n",
       "   tasterID       state  points  price country_x  stateId country_y GDP  \\\n",
       "0        13       Douro      87   15.0  Portugal        0  Portugal   0   \n",
       "1        13      Alsace      87   24.0    France        5    France   0   \n",
       "2        13      Alsace      87   27.0    France        5    France   0   \n",
       "3        13      Alsace      87   30.0    France        5    France   0   \n",
       "4        13  Beaujolais      86    9.0    France       26    France   0   \n",
       "\n",
       "   countryId  \n",
       "0         31  \n",
       "1         15  \n",
       "2         15  \n",
       "3         15  \n",
       "4         15  "
      ]
     },
     "execution_count": 3,
     "metadata": {},
     "output_type": "execute_result"
    }
   ],
   "source": [
    "WineTable = pd.merge(wine_join_state, state, on=\"state\", how =\"left\")\n",
    "#CountryTable.reset_index(inplace=True)\n",
    "#CountryTable[\"countryId\"] = CountryTable[\"index\"]+1\n",
    "#CountryTable.head()\n",
    "WineTable.head()"
   ]
  },
  {
   "cell_type": "code",
   "execution_count": 4,
   "metadata": {},
   "outputs": [],
   "source": [
    "WineTable.reset_index(inplace=True)\n",
    "WineTable[\"wineId\"] = WineTable[\"index\"]+1"
   ]
  },
  {
   "cell_type": "code",
   "execution_count": 17,
   "metadata": {
    "scrolled": true
   },
   "outputs": [],
   "source": [
    "WineTabletoSQL=WineTable[[\"wineId\",\"title\",\"variety\",\"points\",\"price\",\"tasterID\" ]]\n",
    "WineTabletoSQL = WineTabletoSQL.rename( columns={\"tasterID\": \"testerId\"})\n",
    "WineTabletoSQL=WineTabletoSQL"
   ]
  },
  {
   "cell_type": "code",
   "execution_count": 18,
   "metadata": {},
   "outputs": [],
   "source": [
    "from sqlalchemy import create_engine"
   ]
  },
  {
   "cell_type": "code",
   "execution_count": 19,
   "metadata": {},
   "outputs": [],
   "source": [
    "\n",
    "rds_connection_string = \"root:Sanangel1@127.0.0.1/Wine_Ratings\"\n",
    "engine = create_engine(f'mysql+pymysql://{rds_connection_string}')\n"
   ]
  },
  {
   "cell_type": "code",
   "execution_count": 20,
   "metadata": {},
   "outputs": [
    {
     "data": {
      "text/plain": [
       "['country', 'state', 'taster', 'wine']"
      ]
     },
     "execution_count": 20,
     "metadata": {},
     "output_type": "execute_result"
    }
   ],
   "source": [
    "engine.table_names()"
   ]
  },
  {
   "cell_type": "code",
   "execution_count": 21,
   "metadata": {
    "scrolled": true
   },
   "outputs": [],
   "source": [
    "WineTabletoSQL.to_sql(name='wine', con=engine, if_exists='append', index=False)"
   ]
  },
  {
   "cell_type": "code",
   "execution_count": 22,
   "metadata": {},
   "outputs": [
    {
     "data": {
      "text/html": [
       "<div>\n",
       "<style scoped>\n",
       "    .dataframe tbody tr th:only-of-type {\n",
       "        vertical-align: middle;\n",
       "    }\n",
       "\n",
       "    .dataframe tbody tr th {\n",
       "        vertical-align: top;\n",
       "    }\n",
       "\n",
       "    .dataframe thead th {\n",
       "        text-align: right;\n",
       "    }\n",
       "</style>\n",
       "<table border=\"1\" class=\"dataframe\">\n",
       "  <thead>\n",
       "    <tr style=\"text-align: right;\">\n",
       "      <th></th>\n",
       "      <th>wineId</th>\n",
       "      <th>title</th>\n",
       "      <th>variety</th>\n",
       "      <th>points</th>\n",
       "      <th>price</th>\n",
       "      <th>countryId</th>\n",
       "      <th>testerId</th>\n",
       "    </tr>\n",
       "  </thead>\n",
       "  <tbody>\n",
       "    <tr>\n",
       "      <th>0</th>\n",
       "      <td>1</td>\n",
       "      <td>Quinta dos Avidagos 2011 Avidagos Red (Douro)</td>\n",
       "      <td>Portuguese Red</td>\n",
       "      <td>87</td>\n",
       "      <td>15.0</td>\n",
       "      <td>None</td>\n",
       "      <td>13</td>\n",
       "    </tr>\n",
       "    <tr>\n",
       "      <th>1</th>\n",
       "      <td>2</td>\n",
       "      <td>Trimbach 2012 Gewurztraminer (Alsace)</td>\n",
       "      <td>Gewürztraminer</td>\n",
       "      <td>87</td>\n",
       "      <td>24.0</td>\n",
       "      <td>None</td>\n",
       "      <td>13</td>\n",
       "    </tr>\n",
       "    <tr>\n",
       "      <th>2</th>\n",
       "      <td>3</td>\n",
       "      <td>Jean-Baptiste Adam 2012 Les Natures Pinot Gris...</td>\n",
       "      <td>Pinot Gris</td>\n",
       "      <td>87</td>\n",
       "      <td>27.0</td>\n",
       "      <td>None</td>\n",
       "      <td>13</td>\n",
       "    </tr>\n",
       "    <tr>\n",
       "      <th>3</th>\n",
       "      <td>4</td>\n",
       "      <td>Leon Beyer 2012 Gewurztraminer (Alsace)</td>\n",
       "      <td>Gewürztraminer</td>\n",
       "      <td>87</td>\n",
       "      <td>30.0</td>\n",
       "      <td>None</td>\n",
       "      <td>13</td>\n",
       "    </tr>\n",
       "    <tr>\n",
       "      <th>4</th>\n",
       "      <td>5</td>\n",
       "      <td>Henry Fessy 2012 Nouveau  (Beaujolais)</td>\n",
       "      <td>Gamay</td>\n",
       "      <td>86</td>\n",
       "      <td>9.0</td>\n",
       "      <td>None</td>\n",
       "      <td>13</td>\n",
       "    </tr>\n",
       "  </tbody>\n",
       "</table>\n",
       "</div>"
      ],
      "text/plain": [
       "   wineId                                              title         variety  \\\n",
       "0       1      Quinta dos Avidagos 2011 Avidagos Red (Douro)  Portuguese Red   \n",
       "1       2              Trimbach 2012 Gewurztraminer (Alsace)  Gewürztraminer   \n",
       "2       3  Jean-Baptiste Adam 2012 Les Natures Pinot Gris...      Pinot Gris   \n",
       "3       4            Leon Beyer 2012 Gewurztraminer (Alsace)  Gewürztraminer   \n",
       "4       5             Henry Fessy 2012 Nouveau  (Beaujolais)           Gamay   \n",
       "\n",
       "   points  price countryId  testerId  \n",
       "0      87   15.0      None        13  \n",
       "1      87   24.0      None        13  \n",
       "2      87   27.0      None        13  \n",
       "3      87   30.0      None        13  \n",
       "4      86    9.0      None        13  "
      ]
     },
     "execution_count": 22,
     "metadata": {},
     "output_type": "execute_result"
    }
   ],
   "source": [
    "pd.read_sql_query('select * from wine', con=engine).head()"
   ]
  }
 ],
 "metadata": {
  "kernelspec": {
   "display_name": "Python 3",
   "language": "python",
   "name": "python3"
  },
  "language_info": {
   "codemirror_mode": {
    "name": "ipython",
    "version": 3
   },
   "file_extension": ".py",
   "mimetype": "text/x-python",
   "name": "python",
   "nbconvert_exporter": "python",
   "pygments_lexer": "ipython3",
   "version": "3.6.7"
  }
 },
 "nbformat": 4,
 "nbformat_minor": 2
}
